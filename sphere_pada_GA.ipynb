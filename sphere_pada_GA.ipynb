{
  "nbformat": 4,
  "nbformat_minor": 0,
  "metadata": {
    "colab": {
      "name": "sphere_pada_GA.ipynb",
      "provenance": [],
      "include_colab_link": true
    },
    "kernelspec": {
      "name": "python3",
      "display_name": "Python 3"
    }
  },
  "cells": [
    {
      "cell_type": "markdown",
      "metadata": {
        "id": "view-in-github",
        "colab_type": "text"
      },
      "source": [
        "<a href=\"https://colab.research.google.com/github/Kimiko00/Sphere-GA/blob/main/sphere_pada_GA.ipynb\" target=\"_parent\"><img src=\"https://colab.research.google.com/assets/colab-badge.svg\" alt=\"Open In Colab\"/></a>"
      ]
    },
    {
      "cell_type": "code",
      "metadata": {
        "id": "iJAF_N1KUKl4"
      },
      "source": [
        "import numpy as np\n",
        "import random\n",
        "import matplotlib.pyplot as plt\n",
        "from matplotlib import cm \n",
        "from mpl_toolkits.mplot3d import Axes3D \n",
        "from array import *\n",
        "from numpy import ndarray\n",
        "import math"
      ],
      "execution_count": null,
      "outputs": []
    },
    {
      "cell_type": "code",
      "metadata": {
        "id": "27gJb_PsUTeK"
      },
      "source": [
        "D=10 #dimensi permasalahan\n",
        "maxit=99\n",
        "ukuranPopulasi=10\n",
        "LB=-5.12\n",
        "UB=5.12\n",
        "F=  0.5\n",
        "CR = 0.9"
      ],
      "execution_count": null,
      "outputs": []
    },
    {
      "cell_type": "code",
      "metadata": {
        "id": "STA7BBdZUV_k"
      },
      "source": [
        "def initPopulasi(ukuranPopulasi,D,UB,LB):\n",
        "  P=np.empty((ukuranPopulasi,D))\n",
        "  for i in range(ukuranPopulasi):\n",
        "    for j in range(D):\n",
        "      P[i][j]=(random.random()*(UB-LB))+LB\n",
        "  return P\n",
        "\n",
        "P= initPopulasi(ukuranPopulasi,D,UB,LB)\n",
        "print(P)"
      ],
      "execution_count": null,
      "outputs": []
    },
    {
      "cell_type": "code",
      "metadata": {
        "id": "f13uiXk2UY0f"
      },
      "source": [
        "def fungsiObjektif(populasi):\n",
        "  sz=populasi.shape\n",
        "  ukuranPopulasi=sz[0]\n",
        "  dimensi=sz[1]\n",
        "\n",
        "  Fobj=np.empty(ukuranPopulasi)\n",
        "\n",
        "  for i in range(ukuranPopulasi):\n",
        "    d=0\n",
        "    for j in range(dimensi):\n",
        "      d=(d+populasi[i][j]**2)-(10*np.cos(2*np.pi*d+populasi[i][j])+10)\n",
        "    Fobj[i]=d\n",
        "  return Fobj\n",
        "\n",
        "Fobj = fungsiObjektif(P)\n",
        "print(Fobj)"
      ],
      "execution_count": null,
      "outputs": []
    },
    {
      "cell_type": "code",
      "metadata": {
        "id": "dIpeT3lWVJev"
      },
      "source": [
        "def seleksi (P,fsObj):\n",
        "  jmlInduk = 10\n",
        "  sz = P.shape\n",
        "  ukuranPopulasi = sz[0]\n",
        "  dimensi = sz[1]\n",
        "\n",
        "  Induk = np.empty((jmlInduk,dimensi))\n",
        "  Induk = Induk.astype('int')\n",
        "  \n",
        "  for i in range (10):\n",
        "    # memilih dua individu secara acak \n",
        "    r1 = random.randint(0,ukuranPopulasi-1)\n",
        "    r2 = random.randint(0,ukuranPopulasi-1)\n",
        "    \n",
        "    if  fsObj[r1] < fsObj [r2]:\n",
        "      for j in range(dimensi):\n",
        "        Induk [i][j] = P[r1][j]\n",
        "    else:\n",
        "      for j in range(dimensi):\n",
        "        Induk [i][j] = P[r2][j]\n",
        "  return Induk\n",
        "\n",
        "Induk = seleksi(P,Fobj)\n",
        "# print(Induk)"
      ],
      "execution_count": null,
      "outputs": []
    },
    {
      "cell_type": "code",
      "metadata": {
        "id": "cYk_cxYGVPaf"
      },
      "source": [
        "#crossover \n",
        "\n",
        "def PMX(Induk):\n",
        "  sz = Induk.shape\n",
        "  brs = sz[0]\n",
        "  kol = sz[1]\n",
        "  #print(sz, brs, kol)\n",
        "\n",
        "  Anak = np.empty((2,kol))\n",
        "  Anak = Anak.astype('int')\n",
        "\n",
        "  r1 = random.randint(1,kol-2)\n",
        "\n",
        "  for i0 in range(r1): \n",
        "\n",
        "    Anak [0][i0] = Induk[0][i0]\n",
        "    Anak [1][i0] = Induk[1][i0]\n",
        "    \n",
        "\n",
        "  batasCek1 = r1\n",
        "  batasCek2 = r1\n",
        "\n",
        "  for i in range(kol):\n",
        "    m = (i+r1)%kol\n",
        "\n",
        "    n1 = Induk[0][i] \n",
        "    n2 = Induk[1][i]\n",
        "\n",
        "    #mengecek apakah kota tertentu sudah ada di anak\n",
        "    idxAda1 = 0\n",
        "    idxAda2 = 0\n",
        "    for j1 in range(batasCek1): \n",
        "      if batasCek1>(kol-1):\n",
        "        idxAda1 = 1\n",
        "\n",
        "      if Anak [0][j1] ==n2: \n",
        "        idxAda1 = 1\n",
        "            \n",
        "    for j2 in range(batasCek2): \n",
        "      \n",
        "      if batasCek2>(kol-1):\n",
        "        idxAda2 = 1\n",
        "\n",
        "      if Anak [1][i0]  == n1: \n",
        "        idxAda2 = 1\n",
        "\n",
        "    if idxAda1 == 0:\n",
        "      Anak[0][batasCek1] = n2\n",
        "      batasCek1 = batasCek1 +1\n",
        "   \n",
        "    if idxAda2 == 0:\n",
        "      Anak[1][batasCek2] = n1\n",
        "      batasCek2 = batasCek2 +1\n",
        "   \n",
        "  return Anak\n",
        "\n",
        "AnakCX = PMX(Induk)\n",
        "# print(\"Anak :\",AnakCX)\n",
        "      "
      ],
      "execution_count": null,
      "outputs": []
    },
    {
      "cell_type": "code",
      "metadata": {
        "id": "UfV_5X0RVRgl"
      },
      "source": [
        "def MutasiSwap(Induk):\n",
        "  sz = Induk.shape\n",
        "  brs = sz[0]\n",
        "  kol = sz[1]\n",
        "\n",
        "  Anak = np.empty((2,kol))\n",
        "  Anak = Anak.astype('int')\n",
        "\n",
        "  Anak = Induk\n",
        "\n",
        "  r1 = random.randint(0,kol-1)\n",
        "  r2 = random.randint(0,kol-1)\n",
        "\n",
        "  while r1 == r2:\n",
        "    r2 = random.randint(0,kol-1)\n",
        "\n",
        "  I1rs1 = Induk [0][r1]\n",
        "  I1rs2 = Induk [0][r2]\n",
        "  I2rs1 = Induk [1][r1]\n",
        "  I2rs2 = Induk [1][r2] \n",
        "\n",
        "  Anak [0][r1] = I1rs2\n",
        "  Anak [0][r2] = I1rs1\n",
        "  Anak [1][r1] = I2rs2  \n",
        "  Anak [1][r2] = I2rs1\n",
        "\n",
        "  return Anak\n",
        "\n",
        "# print(\"AnakCX :\",AnakCX)\n",
        "AnakM = MutasiSwap(AnakCX)\n",
        "# print(\"AnakM :\",AnakM)"
      ],
      "execution_count": null,
      "outputs": []
    },
    {
      "cell_type": "code",
      "metadata": {
        "id": "jaL_t9SOVVGO"
      },
      "source": [
        "def Elitism(P,Anak,Fobj,fitAnak):\n",
        "  szP = P.shape\n",
        "  brsP = szP[0]\n",
        "  kolP = szP[1]\n",
        "  szA = Anak.shape\n",
        "  brsA = szA[0]\n",
        "  kolA = szA[1]\n",
        "\n",
        "  #print (fitP)\n",
        "  for i in range(brsA):\n",
        "    iJelek = Fobj.max()\n",
        "    idxJelek = Fobj.argmax()\n",
        "\n",
        "    if fitAnak[i]<iJelek:\n",
        "      Fobj[idxJelek] = fitAnak[i]\n",
        "      for j in range (kolP):\n",
        "        P[idxJelek][j] = Anak[i][j]\n",
        "\n",
        "  return [P,Fobj]\n",
        "\n",
        "fitAnak= fungsiObjektif(AnakM)\n",
        "# print(P)\n",
        "# print(AnakM)\n",
        "# print(Fobj)\n",
        "# print(fitAnak)\n",
        "P = Elitism (P,AnakM,Fobj,fitAnak)\n",
        "# print(P)\n",
        "# print(Fobj)"
      ],
      "execution_count": null,
      "outputs": []
    },
    {
      "cell_type": "code",
      "metadata": {
        "id": "EK62LRd5VgFX"
      },
      "source": [
        "# Inisialisasi paramater\n",
        "PCX = 0.9\n",
        "Pm = 0.01\n",
        "\n",
        "\n",
        "# Inisialisasi populasi \n",
        "\n",
        "P = initPopulasi(ukuranPopulasi,D,UB,LB)\n",
        "#print(\"P0 :\",P)\n",
        "\n",
        "#melakukan evaluasi P\n",
        "Fobj = fungsiObjektif(P)\n",
        "print(\"fitness populasi awal:\",Fobj)\n",
        "\n",
        "print(\"fitness terbaik awal:\",Fobj.min())\n",
        "print(\"rute awal :\",P[Fobj.argmin()])\n",
        "\n",
        "\n",
        "for i in range(maxit):\n",
        "  #print(\"generasi :\",i)\n",
        "  Induk = seleksi(P,Fobj)\n",
        "  #print(\"Induk :\",Induk)\n",
        "\n",
        "  Anak = Induk\n",
        "\n",
        "  rxo = random.random()\n",
        "\n",
        "  if rxo < PCX:\n",
        "    Anak = PMX(Induk)\n",
        "    #print(\"AnakXO :\",Anak)\n",
        "\n",
        "    rm = random.random()\n",
        "    if rm < Pm:\n",
        "      Anak = MutasiSwap(Anak)\n",
        "      #print(\"AnakR :\",Anak)\n",
        "\n",
        "  fitAnak = fungsiObjektif(Anak)\n",
        "  #print(\"fitAnak :\",fitAnak)\n",
        "\n",
        "  #print(\"fitness:\",fitAnak.min())\n",
        "\n",
        "  [P, Fobj]= Elitism (P,Anak,Fobj,fitAnak)   \n",
        "  \n",
        "print(\"fitness populasi akhir:\",Fobj)\n",
        "print(\"fitness akhir:\",Fobj.min())\n",
        "print(\"rute akhir :\",P[Fobj.argmin()])"
      ],
      "execution_count": null,
      "outputs": []
    }
  ]
}